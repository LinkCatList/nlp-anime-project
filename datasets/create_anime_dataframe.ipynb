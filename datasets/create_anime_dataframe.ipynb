{
  "nbformat": 4,
  "nbformat_minor": 0,
  "metadata": {
    "colab": {
      "provenance": []
    },
    "kernelspec": {
      "name": "python3",
      "display_name": "Python 3"
    },
    "language_info": {
      "name": "python"
    }
  },
  "cells": [
    {
      "cell_type": "code",
      "execution_count": 2,
      "metadata": {
        "id": "Eb5Ez0aOi_p6"
      },
      "outputs": [],
      "source": [
        "import numpy as np\n",
        "import pandas as pd"
      ]
    },
    {
      "cell_type": "markdown",
      "source": [
        "Почистим каждый датафрейм от лишних столбцов, переделаем название, описания и жанры\n",
        "\n"
      ],
      "metadata": {
        "id": "j2E8IFDQMQ9W"
      }
    },
    {
      "cell_type": "markdown",
      "source": [
        "DataFrame №5"
      ],
      "metadata": {
        "id": "8ZeIdnuBhN15"
      }
    },
    {
      "cell_type": "code",
      "source": [
        "# основной на 11000 строк  //// обработали\n",
        "df_5 = pd.read_csv('/content/maltodata_2021-09-03T05-59-42.csv')"
      ],
      "metadata": {
        "id": "pSCcqGiEpIFr"
      },
      "execution_count": 3,
      "outputs": []
    },
    {
      "cell_type": "code",
      "source": [
        "# чистим\n",
        "df_5.drop(columns=['image_urls', 'images', 'ranking', 'rating', 'season'])\n",
        "\n",
        "# меняем расположение/порядок\n",
        "df_5 = df_5[['title', 'description', 'misc']]\n",
        "\n",
        "# переименовываем\n",
        "df_5 = df_5.rename(columns={'misc': 'genres'})\n",
        "\n",
        "# корректируем тип данных в колоне с жанром\n",
        "df_5['genres'] = df_5['genres'].astype(str)\n",
        "for i in range(df_5.shape[0]):\n",
        "    df_5['genres'][i] = ', '.join(df_5['genres'][i].split(';'))\n"
      ],
      "metadata": {
        "id": "X2s_UTgDMNkq"
      },
      "execution_count": 4,
      "outputs": []
    },
    {
      "cell_type": "markdown",
      "source": [
        "DataFrame №4"
      ],
      "metadata": {
        "id": "_azb0_1PhXnH"
      }
    },
    {
      "cell_type": "code",
      "source": [
        "# 1366 строк\n",
        "df_4 = pd.read_csv('/content/light-novel-titles.csv')"
      ],
      "metadata": {
        "id": "ypswt43IpKZQ"
      },
      "execution_count": 5,
      "outputs": []
    },
    {
      "cell_type": "code",
      "source": [
        "# чистим\n",
        "df_4 = df_4.drop(columns=['links'])\n",
        "\n",
        "# меняем названия стобцов\n",
        "df_4 = df_4.rename(columns={'titles': 'title', 'descriptions': 'description'})\n",
        "\n",
        "# изменяем вид данных в genres для совпадения с df_5\n",
        "for i in range(df_4.shape[0]):\n",
        "    df_4['genres'][i] = ', '.join(eval(df_4['genres'][i]))"
      ],
      "metadata": {
        "id": "NZ-DsA1tSzU-"
      },
      "execution_count": 6,
      "outputs": []
    },
    {
      "cell_type": "markdown",
      "source": [
        "DataFrame №3"
      ],
      "metadata": {
        "id": "KoZulwywnm2f"
      }
    },
    {
      "cell_type": "code",
      "source": [
        "# 85 строк\n",
        "df_3 = pd.read_csv('/content/TopAnimatedImDb.csv')"
      ],
      "metadata": {
        "id": "-sg3cjH1pMe3"
      },
      "execution_count": 7,
      "outputs": []
    },
    {
      "cell_type": "code",
      "source": [
        "# чистим\n",
        "df_3 = df_3.drop(columns=['Rating', 'Votes', 'Gross', 'Metascore', 'Certificate', 'Director', 'Year', 'Runtime'])\n",
        "\n",
        "# переименовываем\n",
        "df_3 = df_3.rename(columns={'Title': 'title', 'Description': 'description', 'Genre': 'genres'})\n",
        "\n",
        "# меняем расположение/порядок\n",
        "df_3 = df_3[['title', 'description', 'genres']]\n"
      ],
      "metadata": {
        "id": "2qfgUDkanrzG"
      },
      "execution_count": 8,
      "outputs": []
    },
    {
      "cell_type": "markdown",
      "source": [
        "DataFrame №1,2"
      ],
      "metadata": {
        "id": "ErkTISqspuVz"
      }
    },
    {
      "cell_type": "code",
      "source": [
        "# 836 + 5118 = 6000 строк\n",
        "df_1 = pd.read_csv('/content/anime_movies.csv')\n",
        "df_2 = pd.read_csv('/content/anime_series.csv')"
      ],
      "metadata": {
        "id": "LB7qP4cLpCld"
      },
      "execution_count": 9,
      "outputs": []
    },
    {
      "cell_type": "code",
      "source": [
        "# чистим df_1\n",
        "df_1 = df_1.drop(columns=['poster', 'link'])\n",
        "\n",
        "# меняем расположение/порядок\n",
        "df_1 = df_1[['title', 'description', 'genres']]\n",
        "\n",
        "# изменяем вид данных в genres\n",
        "for i in range(df_1.shape[0]):\n",
        "    df_1['genres'][i] = ', '.join(eval(df_1['genres'][i]))"
      ],
      "metadata": {
        "id": "1xCgvphBp-GJ"
      },
      "execution_count": 10,
      "outputs": []
    },
    {
      "cell_type": "code",
      "source": [
        "# чистим df_2\n",
        "df_2 = df_2.drop(columns=['poster', 'link'])\n",
        "\n",
        "# меняем расположение/порядок\n",
        "df_2 = df_2[['title', 'description', 'genres']]\n",
        "\n",
        "# изменяем вид данных в genres\n",
        "for i in range(df_2.shape[0]):\n",
        "    df_2['genres'][i] = ', '.join(eval(df_2['genres'][i]))"
      ],
      "metadata": {
        "id": "CLl8mk4zqZAS"
      },
      "execution_count": 11,
      "outputs": []
    },
    {
      "cell_type": "markdown",
      "source": [
        "Объединяем получившиеся базы данных в одну:"
      ],
      "metadata": {
        "id": "nE-Fa1AZrJN2"
      }
    },
    {
      "cell_type": "code",
      "source": [
        "df = pd.concat([\n",
        "    df_1, df_2, df_3, df_4, df_5\n",
        "], axis=0)"
      ],
      "metadata": {
        "id": "9zJiZ4eDqzZp"
      },
      "execution_count": 40,
      "outputs": []
    },
    {
      "cell_type": "markdown",
      "source": [
        "Скачиваем"
      ],
      "metadata": {
        "id": "Hsxk9WknyghU"
      }
    },
    {
      "cell_type": "code",
      "source": [
        "df.to_csv(\"/content/anime-description.csv\", index=False)"
      ],
      "metadata": {
        "id": "mS3VEXy4xPly"
      },
      "execution_count": 47,
      "outputs": []
    }
  ]
}